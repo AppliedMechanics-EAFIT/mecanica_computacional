{
 "cells": [
  {
   "cell_type": "markdown",
   "id": "33583753-0776-4c02-b331-a9be897bfd72",
   "metadata": {},
   "source": [
    "# Ejercicio de autoexplicación"
   ]
  },
  {
   "cell_type": "markdown",
   "id": "ef2f1c17",
   "metadata": {},
   "source": [
    "## Enunciado"
   ]
  },
  {
   "cell_type": "markdown",
   "id": "367516cc",
   "metadata": {},
   "source": [
    "La cercha presentada a continuación representa un puente que utiliza una cercha\n",
    "tipo K. El puente tiene una longitud de 24 m y una altura de 6 m. La sección de\n",
    "cada barra es de  $ A = 0.002 \\text{ m}^2 $  y su módulo de Young es \n",
    "$ E = 200 \\text{ GPa} $. El puente está sometido a una carga total equivalente\n",
    "a 2000 kN, distribuida como se muestra en la figura: \n",
    "\n",
    "<div align=\"center\">\n",
    "    <img src=\"img/cercha_k.svg\">\n",
    "</div>\n",
    "\n",
    "Se busca determinar si alguna de las barras del puente supera el esfuerzo de\n",
    "fluencia a tracción de  $ 330 \\text{ MPa} $.\n",
    "\n",
    "\n",
    "Actualmente, el notebook contiene celdas de código incompletas.\n",
    "Se solicita completarlas para resolver el problema planteado y agregar\n",
    "explicaciones en celdas de texto en donde reflexiones sobre cómo las\n",
    "completó.\n"
   ]
  },
  {
   "cell_type": "code",
   "execution_count": null,
   "id": "5e06097a-db7f-45cc-9949-37af1034ea18",
   "metadata": {},
   "outputs": [],
   "source": [
    "%matplotlib widget"
   ]
  },
  {
   "cell_type": "code",
   "execution_count": null,
   "id": "4e58ef1f",
   "metadata": {},
   "outputs": [],
   "source": [
    "import numpy as np\n",
    "import matplotlib.pyplot as plt\n",
    "from plane_trusses import analysis"
   ]
  },
  {
   "cell_type": "markdown",
   "id": "c828092b",
   "metadata": {},
   "source": [
    "**1.** La siguiente celda de código tiene una representación del problema\n",
    "planteado en el enunciado incompleta. **Complete donde considere necesario y\n",
    "agregue una explicación en una celda posterior del notebook utilizando**."
   ]
  },
  {
   "cell_type": "code",
   "execution_count": null,
   "id": "06987dc6",
   "metadata": {},
   "outputs": [],
   "source": [
    "nodes = np.array([\n",
    "    [0,  0],\n",
    "    [4,  0],\n",
    "    [8,  0],\n",
    "    [12, 0],\n",
    "    [16, 0],\n",
    "    [20, 0],\n",
    "    [24, 0],\n",
    "    [4,  6],\n",
    "    [8,  6],\n",
    "    [12, 6],\n",
    "    [16, 6],\n",
    "    [20, 6],\n",
    "    [4,  3],\n",
    "    [8,  3],\n",
    "    [16, 3],\n",
    "    [20, 3]])\n",
    "\n",
    "cons = np.array([\n",
    "    [-1, -1],\n",
    "    [0, 0],\n",
    "    [0, 0],\n",
    "    [0, 0],\n",
    "    [0, 0],\n",
    "    [0, 0],\n",
    "    [0, -1],\n",
    "    [0, 0],\n",
    "    [0, 0],\n",
    "    [0, 0],\n",
    "    [0, 0],\n",
    "    [0, 0],\n",
    "    [0, 0],\n",
    "    [0, 0],\n",
    "    [0, 0],\n",
    "    [0, 0]], dtype=int)\n",
    "\n",
    "loads = np.array([\n",
    "    [0, 0],\n",
    "    [0, ...],\n",
    "    [0, ...],\n",
    "    [0, ...],\n",
    "    [0, ...],\n",
    "    [0, ...],\n",
    "    [0, 0],\n",
    "    [0, 0],\n",
    "    [0, 0],\n",
    "    [0, 0],\n",
    "    [0, 0],\n",
    "    [0, 0],\n",
    "    [0, 0],\n",
    "    [0, 0],\n",
    "    [0, 0],\n",
    "    [0, 0]])\n",
    "\n",
    "elements = np.array([\n",
    "    [0, 0,  1],\n",
    "    [0, 1,  2],\n",
    "    [0, 2,  3],\n",
    "    [0, 3,  4],\n",
    "    [0, 4,  5],\n",
    "    [0, 5,  6],\n",
    "    [0, 7,  8],\n",
    "    [0, 8,  9],\n",
    "    [0, 9,  10],\n",
    "    [0, 10, 11],\n",
    "    [0, 0,  7],\n",
    "    [0, 6,  11],\n",
    "    [0, 1,  12],\n",
    "    [0, 2,  13],\n",
    "    [0, 4,  14],\n",
    "    [0, 5,  15],\n",
    "    [0, 12, 7],\n",
    "    [0, 13, 8],\n",
    "    [0, 14, 10],\n",
    "    [0, 15, 11],\n",
    "    [0, 2,  12],\n",
    "    [0, 3,  13],\n",
    "    [0, 3,  14],\n",
    "    [0, 4,  15],\n",
    "    [0, 12, 8],\n",
    "    [0, 13, 9],\n",
    "    [0, 9,  14],\n",
    "    [0, 10, 15],\n",
    "    [0, 3,  9]], dtype=int)\n",
    "\n",
    "\n",
    "mats = np.array([[..., ...]]) \n",
    "\n",
    "data = {\n",
    "  \"nodes\": nodes,\n",
    "  \"cons\": cons,\n",
    "  \"elements\": elements,\n",
    "  \"loads\": loads,\n",
    "  \"mats\": mats}"
   ]
  },
  {
   "cell_type": "markdown",
   "id": "393f96f4",
   "metadata": {},
   "source": [
    "<div class=\"alert-info\">\n",
    "\n",
    "Agregue un párrafo explicando por qué está ocurriendo el error y cómo lo arregló\n",
    "\n",
    "<div/>"
   ]
  },
  {
   "cell_type": "markdown",
   "id": "e589e8f5",
   "metadata": {},
   "source": []
  },
  {
   "cell_type": "code",
   "execution_count": null,
   "id": "a8ba50d7",
   "metadata": {},
   "outputs": [],
   "source": [
    "disp = analysis(data)"
   ]
  },
  {
   "cell_type": "markdown",
   "id": "69823053",
   "metadata": {},
   "source": [
    "**2.** La siguiente celda incompleta de código contiene la función que calcula\n",
    "los esfuerzos de una cercha plana a partir de las coordenadas de los nodos, la\n",
    "conectividad de los elementos, las propiedades del material y los desplazamientos\n",
    "nodales. **Complete el código y agregue una explicación en una celda posterior\n",
    "del notebook**."
   ]
  },
  {
   "cell_type": "code",
   "execution_count": null,
   "id": "f7adf3c2",
   "metadata": {},
   "outputs": [],
   "source": [
    "def calc_esfuerzos_int(coords, eles, mats, desp):\n",
    "    \"\"\"Calcula los esfuerzos internos para una cercha plana.\n",
    "\n",
    "    Parámetros\n",
    "    ----------\n",
    "    coords : ndarray (float)\n",
    "        Arreglo con coordenadas de los nodos.\n",
    "    eles : ndarray (int)\n",
    "        Arreglo con información de los elementos: propiedades\n",
    "        y conectividades.\n",
    "    mats : ndarray (float)\n",
    "        Arreglo con información de las propiedades de los elementos:\n",
    "        módulo de Young y sección.\n",
    "    desp : ndarray (float)\n",
    "        Desplazamientos de los nodos.\n",
    "\n",
    "    Retorna\n",
    "    -------\n",
    "    esfuerzos : ndarray (float)\n",
    "        Arreglo con los esfuerzos axiales de cada elemento.\n",
    "    \"\"\"    \n",
    "    neles = eles.shape[0]\n",
    "    esfuerzos = np.zeros((neles))\n",
    "    \n",
    "    for cont in range(neles):\n",
    "        ini = eles[cont, 1]\n",
    "        fin = eles[cont, 2]\n",
    "        \n",
    "        longitud = np.linalg.norm(coords[fin, :] - coords[ini, :])\n",
    "        mat_id = eles[cont, 0]\n",
    "        young, _ = mats[mat_id]\n",
    "        \n",
    "        long_nueva = np.linalg.norm(coords[fin, :] - coords[ini, :] +\n",
    "                                    desp[fin, :] - desp[ini, :])\n",
    "        \n",
    "        elongacion = ...\n",
    "        \n",
    "        esfuerzos[cont] = ...\n",
    "    \n",
    "    return esfuerzos"
   ]
  },
  {
   "cell_type": "markdown",
   "id": "ae21f83c",
   "metadata": {},
   "source": [
    "<div class=\"alert-info\">\n",
    "\n",
    "Agregue un párrafo explicando lo siguiente:\n",
    "\n",
    "- ¿Cuáles son las partes que necesitaban ser completadas y cómo lo solucionaste?\n",
    "\n",
    "- ¿Por qué estos cálculos intermedios son importantes para el cálculo del\n",
    "  esfuerzo en las barras?\n",
    "\n",
    "<div/>"
   ]
  },
  {
   "cell_type": "markdown",
   "id": "4744c1e3",
   "metadata": {},
   "source": []
  },
  {
   "cell_type": "code",
   "execution_count": null,
   "id": "7aace6ae",
   "metadata": {},
   "outputs": [],
   "source": [
    "esfuerzos = calc_esfuerzos_int(nodes, elements, mats, disp)\n",
    "esfuerzos / 330e6"
   ]
  },
  {
   "cell_type": "markdown",
   "id": "86301026",
   "metadata": {},
   "source": [
    "**3.** La siguiente celda incompleta de código contiene la función\n",
    "que visualiza los esfuerzos de la cercha mediante colores. **Complete el código\n",
    "y agregue una explicación en una celda posterior\n",
    "del notebook**."
   ]
  },
  {
   "cell_type": "code",
   "execution_count": null,
   "id": "6963e072",
   "metadata": {},
   "outputs": [],
   "source": [
    "def vis_esfuerzos(coords, eles, esfuerzos, desp=None):\n",
    "    \"\"\"Visualiza los esfuerzos de la cercha.\n",
    "\n",
    "    El color azul representa un elemento sometido a compresión\n",
    "    y el color rojo, uno sometida a tracción. La intensidad\n",
    "    del color representa la magnitud del esfuerzo.\n",
    "\n",
    "    Parámetros\n",
    "    ----------\n",
    "    coords : ndarray (float)\n",
    "        Arreglo con coordenadas de los nodos.\n",
    "    eles : ndarray (int)\n",
    "        Arreglo con información de los elementos: propiedades\n",
    "        y conectividades.\n",
    "    esfuerzos : ndarray (float)\n",
    "        Arreglo con los esfuerzos de cada elemento.\n",
    "    desp : ndarray (float), opcional\n",
    "        Arreglo con los desplazamientos de cada nodo, por defecto None.\n",
    "    \"\"\"    \n",
    "    esfuerzo_max = max(-esfuerzos.min(), esfuerzos.max())\n",
    "    esfuerzo_escalado = ...\n",
    "    x, y = coords.T\n",
    "    if desp is None:\n",
    "        desp = np.zeros_like(coords)\n",
    "    for cont, barra in enumerate(eles[:, 1:]):\n",
    "        color = ...\n",
    "        plt.plot(x[barra] + desp[barra, 0], y[barra] + desp[barra, 1],\n",
    "                color=color, lw=3)\n",
    "        plt.plot(x + desp[:, 0], y + desp[:, 1], lw=0, marker=\"o\",\n",
    "             mec=\"#3c3c3c\", mfc=\"#ffffff\")\n",
    "    plt.axis(\"image\")"
   ]
  },
  {
   "cell_type": "markdown",
   "id": "c8734ebc",
   "metadata": {},
   "source": [
    "<div class=\"alert-info\">\n",
    "\n",
    "Agregue un párrafo explicando lo siguiente:\n",
    "\n",
    "- ¿Qué propósito cumplían las líneas de código que necesitaban ser completadas y cómo las completaste\n",
    "- ?\n",
    "\n",
    "- ¿Por qué son relevantes en la solución del problema?\n",
    "\n",
    "<div/>"
   ]
  },
  {
   "cell_type": "code",
   "execution_count": null,
   "id": "a0cc9c7c",
   "metadata": {},
   "outputs": [],
   "source": [
    "plt.figure()\n",
    "vis_esfuerzos(nodes, elements, esfuerzos, desp=None)"
   ]
  }
 ],
 "metadata": {
  "kernelspec": {
   "display_name": "Python 3 (ipykernel)",
   "language": "python",
   "name": "python3"
  },
  "language_info": {
   "codemirror_mode": {
    "name": "ipython",
    "version": 3
   },
   "file_extension": ".py",
   "mimetype": "text/x-python",
   "name": "python",
   "nbconvert_exporter": "python",
   "pygments_lexer": "ipython3",
   "version": "3.11.5"
  }
 },
 "nbformat": 4,
 "nbformat_minor": 5
}
