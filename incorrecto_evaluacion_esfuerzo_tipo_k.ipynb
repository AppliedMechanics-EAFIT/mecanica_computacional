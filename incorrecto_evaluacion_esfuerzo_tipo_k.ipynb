{
 "cells": [
  {
   "cell_type": "markdown",
   "id": "33583753-0776-4c02-b331-a9be897bfd72",
   "metadata": {},
   "source": [
    "# Ejercicio de autoexplicación"
   ]
  },
  {
   "cell_type": "markdown",
   "id": "ef2f1c17",
   "metadata": {},
   "source": [
    "## Enunciado"
   ]
  },
  {
   "cell_type": "markdown",
   "id": "86bbd553",
   "metadata": {},
   "source": [
    "La cercha presentada a continuación representa un puente que utiliza una cercha\n",
    "tipo K. El puente tiene una longitud de 24 m y una altura de 6 m. La sección de\n",
    "cada barra es de  $ A = 0.002 \\text{ m}^2 $  y su módulo de Young es \n",
    "$ E = 200 \\text{ GPa} $. El puente está sometido a una carga total equivalente\n",
    "a 2000 kN, distribuida como se muestra en la figura: \n",
    "\n",
    "<div align=\"center\">\n",
    "    <img src=\"img/cercha_k.svg\">\n",
    "</div>\n",
    "\n",
    "Se busca determinar si alguna de las barras del puente supera el esfuerzo de\n",
    "fluencia a tracción de  $ 330 \\text{ MPa} $.\n",
    "\n",
    "\n",
    "Actualmente, el notebook celdas de código con errores en algunas de sus líneas.\n",
    "Se solicita corregirlas para resolver el problema planteado y agregar\n",
    "explicaciones en celdas de texto en donde reflexiones sobre cómo corrigió\n",
    "estos errores.\n"
   ]
  },
  {
   "cell_type": "code",
   "execution_count": 1,
   "id": "5e06097a-db7f-45cc-9949-37af1034ea18",
   "metadata": {},
   "outputs": [],
   "source": [
    "%matplotlib widget"
   ]
  },
  {
   "cell_type": "code",
   "execution_count": 2,
   "id": "4e58ef1f",
   "metadata": {},
   "outputs": [],
   "source": [
    "import numpy as np\n",
    "import matplotlib.pyplot as plt\n",
    "from plane_trusses import analysis"
   ]
  },
  {
   "cell_type": "markdown",
   "id": "373f6c7e",
   "metadata": {},
   "source": [
    "**1.** La siguiente celda de código contiene errores respecto a la representación\n",
    "del problema planteado en el enunciado. **Corrija estos errores y\n",
    "agregue una explicación en una celda posterior del notebook**."
   ]
  },
  {
   "cell_type": "code",
   "execution_count": 3,
   "id": "8102fc4d",
   "metadata": {},
   "outputs": [],
   "source": [
    "nodes = np.array([\n",
    "    [0,  0],\n",
    "    [4,  0],\n",
    "    [8,  0],\n",
    "    [12, 0],\n",
    "    [16, 0],\n",
    "    [20, 0],\n",
    "    [24, 0],\n",
    "    [4,  6],\n",
    "    [8,  6],\n",
    "    [12, 6],\n",
    "    [16, 6],\n",
    "    [20, 6],\n",
    "    [4,  3],\n",
    "    [8,  3],\n",
    "    [16, 3],\n",
    "    [20, 3]])\n",
    "cons = np.array([\n",
    "    [-1, -1],\n",
    "    [0, 0],\n",
    "    [0, 0],\n",
    "    [0, 0],\n",
    "    [0, 0],\n",
    "    [0, 0],\n",
    "    [0, -1],\n",
    "    [0, 0],\n",
    "    [0, 0],\n",
    "    [0, 0],\n",
    "    [0, 0],\n",
    "    [0, 0],\n",
    "    [0, 0],\n",
    "    [0, 0],\n",
    "    [0, 0],\n",
    "    [0, 0]], dtype=int)\n",
    "\n",
    "loads = np.array([\n",
    "    [0, 0],\n",
    "    [0, -400e6],\n",
    "    [0, -400e6],\n",
    "    [0, -400e6],\n",
    "    [0, -400e6],\n",
    "    [0, -400e6],\n",
    "    [0, 0],\n",
    "    [0, 0],\n",
    "    [0, 0],\n",
    "    [0, 0],\n",
    "    [0, 0],\n",
    "    [0, 0],\n",
    "    [0, 0],\n",
    "    [0, 0],\n",
    "    [0, 0],\n",
    "    [0, 0]])\n",
    "\n",
    "elements = np.array([\n",
    "    [0, 0,  1],\n",
    "    [0, 1,  2],\n",
    "    [0, 2,  3],\n",
    "    [0, 3,  4],\n",
    "    [0, 4,  5],\n",
    "    [0, 5,  6],\n",
    "    [0, 7,  8],\n",
    "    [0, 8,  9],\n",
    "    [0, 9,  10],\n",
    "    [0, 10, 11],\n",
    "    [0, 0,  7],\n",
    "    [0, 6,  11],\n",
    "    [0, 1,  12],\n",
    "    [0, 2,  13],\n",
    "    [0, 4,  14],\n",
    "    [0, 5,  15],\n",
    "    [0, 12, 7],\n",
    "    [0, 13, 8],\n",
    "    [0, 14, 10],\n",
    "    [0, 15, 11],\n",
    "    [0, 2,  12],\n",
    "    [0, 3,  13],\n",
    "    [0, 3,  14],\n",
    "    [0, 4,  15],\n",
    "    [0, 12, 8],\n",
    "    [0, 13, 9],\n",
    "    [0, 9,  14],\n",
    "    [0, 10, 15],\n",
    "    [0, 3,  9]], dtype=int)\n",
    "\n",
    "mats = np.array([[200e9, 0.002]])\n",
    "\n",
    "data = {\n",
    "  \"nodes\": nodes,\n",
    "  \"cons\": cons,\n",
    "  \"elements\": elements,\n",
    "  \"loads\": loads,\n",
    "  \"mats\": mats}"
   ]
  },
  {
   "cell_type": "markdown",
   "id": "db7cb0f7",
   "metadata": {},
   "source": [
    "<div class=\"alert-info\">\n",
    "\n",
    "Agregue un párrafo explicando lo siguiente:\n",
    "\n",
    "- ¿En dónde estaba el error en la celda anterior?\n",
    "\n",
    "- ¿Cuál era el error que tenía la celda anterior?\n",
    "\n",
    "- ¿Cómo corrigió este error?\n",
    "\n",
    "<div/>"
   ]
  },
  {
   "cell_type": "markdown",
   "id": "6eaebd18",
   "metadata": {},
   "source": []
  },
  {
   "cell_type": "code",
   "execution_count": 4,
   "id": "a8ba50d7",
   "metadata": {},
   "outputs": [],
   "source": [
    "disp = analysis(data)"
   ]
  },
  {
   "cell_type": "markdown",
   "id": "3da24477",
   "metadata": {},
   "source": [
    "**2.** La siguiente celda de código contiene errores en la función que calcula\n",
    "los esfuerzos de una cercha plana a partir de las coordenadas de los nodos, la\n",
    "conectividad de los elementos, las propiedades del material y los desplazamientos\n",
    "nodales. **Corrija estos errores y agregue una explicación en una celda posterior\n",
    "del notebook utilizando**."
   ]
  },
  {
   "cell_type": "code",
   "execution_count": 5,
   "id": "f7adf3c2",
   "metadata": {},
   "outputs": [],
   "source": [
    "def calc_esfuerzos_int(coords, eles, mats, desp):\n",
    "    \"\"\"Calcula los esfuerzos internos para una cercha plana.\n",
    "\n",
    "    Parámetros\n",
    "    ----------\n",
    "    coords : ndarray (float)\n",
    "        Arreglo con coordenadas de los nodos.\n",
    "    eles : ndarray (int)\n",
    "        Arreglo con información de los elementos: propiedades\n",
    "        y conectividades.\n",
    "    mats : ndarray (float)\n",
    "        Arreglo con información de las propiedades de los elementos:\n",
    "        módulo de Young y sección.\n",
    "    desp : ndarray (float)\n",
    "        Desplazamientos de los nodos.\n",
    "\n",
    "    Retorna\n",
    "    -------\n",
    "    esfuerzos : ndarray (float)\n",
    "        Arreglo con los esfuerzos axiales de cada elemento.\n",
    "    \"\"\"       \n",
    "    neles = eles.shape[0]\n",
    "    esfuerzos = np.zeros((neles))\n",
    "    for cont in range(neles):\n",
    "        ini = eles[cont, 1]\n",
    "        fin = eles[cont, 2]\n",
    "        longitud = np.linalg.norm(coords[fin, :] - coords[ini, :])\n",
    "        mat_id = eles[cont, 0]\n",
    "        young, area = mats[mat_id]\n",
    "        long_nueva = np.linalg.norm(coords[fin, :] - coords[ini, :] +\n",
    "                                    desp[fin, :] - desp[ini, :])\n",
    "        elongacion = longitud - long_nueva\n",
    "        esfuerzos[cont] = young * elongacion / (longitud * area) \n",
    "    return esfuerzos"
   ]
  },
  {
   "cell_type": "markdown",
   "id": "3484754e",
   "metadata": {},
   "source": [
    "<div class=\"alert-info\">\n",
    "\n",
    "Agregue un párrafo explicando lo siguiente:\n",
    "\n",
    "- ¿Cuál era el error que tenía la celda anterior?\n",
    "\n",
    "- ¿Cómo corrigió este error?\n",
    "\n",
    "<div/>"
   ]
  },
  {
   "cell_type": "markdown",
   "id": "26d31610",
   "metadata": {},
   "source": []
  },
  {
   "cell_type": "code",
   "execution_count": 6,
   "id": "7aace6ae",
   "metadata": {},
   "outputs": [
    {
     "data": {
      "text/plain": [
       "array([-4619480.97962646, -1627206.65648268,  -853205.71270659,\n",
       "        -853205.71270659, -1627206.65648268, -4619480.97962647,\n",
       "       -2026872.50702863,  -294790.6028473 ,  -294790.6028473 ,\n",
       "       -2026872.50702863, -2459132.18696733, -2459132.18696733,\n",
       "       -1657476.7991212 ,  -946827.98004031,  -946827.98004031,\n",
       "       -1657476.7991212 , -1647694.3560871 ,  -797033.70888027,\n",
       "        -797033.70888027, -1647694.3560871 , -1525008.54849723,\n",
       "        -210592.92791111,  -210592.92791111, -1525008.54849723,\n",
       "       -1167777.25210494,   117988.65372912,   117988.65372912,\n",
       "       -1167777.25210494,  -151515.15151515])"
      ]
     },
     "execution_count": 6,
     "metadata": {},
     "output_type": "execute_result"
    }
   ],
   "source": [
    "esfuerzos = calc_esfuerzos_int(nodes, elements, mats, disp)\n",
    "esfuerzos / 330e6"
   ]
  },
  {
   "cell_type": "markdown",
   "id": "48981ad3",
   "metadata": {},
   "source": [
    "**3.** La siguiente celda de código contiene errores en la función que visualiza\n",
    "los esfuerzos de la cercha mediante colores. **Corrija estos errores y\n",
    "agregue una explicación en una celda posterior\n",
    "del noteboo**."
   ]
  },
  {
   "cell_type": "code",
   "execution_count": 7,
   "id": "6963e072",
   "metadata": {},
   "outputs": [],
   "source": [
    "def vis_esfuerzos(coords, eles, esfuerzos, desp=None):\n",
    "    \"\"\"Visualiza los esfuerzos de la cercha.\n",
    "\n",
    "    El color azul representa un elemento sometido a compresión\n",
    "    y el color rojo, uno sometida a tracción. La intensidad\n",
    "    del color representa la magnitud del esfuerzo.\n",
    "\n",
    "    Parámetros\n",
    "    ----------\n",
    "    coords : ndarray (float)\n",
    "        Arreglo con coordenadas de los nodos.\n",
    "    eles : ndarray (int)\n",
    "        Arreglo con información de los elementos: propiedades\n",
    "        y conectividades.\n",
    "    esfuerzos : ndarray (float)\n",
    "        Arreglo con los esfuerzos de cada elemento.\n",
    "    desp : ndarray (float), opcional\n",
    "        Arreglo con los desplazamientos de cada nodo, por defecto None.\n",
    "    \"\"\"      \n",
    "    esfuerzo_max = max(-esfuerzos.min(), esfuerzos.max())  \n",
    "    esfuerzo_escalado = 0.5*(esfuerzos + esfuerzo_max)/esfuerzo_max \n",
    "    x, y = coords.T\n",
    "    if desp is None:\n",
    "        desp = np.zeros_like(coords)\n",
    "    for cont, barra in enumerate(eles[:, 1:]):\n",
    "        color = plt.cm.seismic(esfuerzos[cont]) # Error\n",
    "        plt.plot(x[barra] + desp[barra, 0], y[barra] + desp[barra, 1],\n",
    "                color='red', lw=3) # Error\n",
    "        plt.plot(x + desp[:, 0], y + desp[:, 1], lw=0, marker=\"o\",\n",
    "             mec=\"#3c3c3c\", mfc=\"#ffffff\")  \n",
    "    plt.axis(\"image\")"
   ]
  },
  {
   "cell_type": "markdown",
   "id": "e9a12f08",
   "metadata": {},
   "source": [
    "<div class=\"alert-info\">\n",
    "\n",
    "Agregue un párrafo explicando lo siguiente:\n",
    "\n",
    "- ¿Cuál era el error que tenía la celda anterior?\n",
    "\n",
    "- ¿Cómo corrigió este error?\n",
    "\n",
    "<div/>"
   ]
  },
  {
   "cell_type": "markdown",
   "id": "399d9abf",
   "metadata": {},
   "source": []
  },
  {
   "cell_type": "code",
   "execution_count": 8,
   "id": "a0cc9c7c",
   "metadata": {},
   "outputs": [
    {
     "data": {
      "application/vnd.jupyter.widget-view+json": {
       "model_id": "4d083ad1cf554c9a80a64d703b8b314f",
       "version_major": 2,
       "version_minor": 0
      },
      "image/png": "[encoded data removed]",
      "text/html": [
       "\n",
       "            <div style=\"display: inline-block;\">\n",
       "                <div class=\"jupyter-widgets widget-label\" style=\"text-align: center;\">\n",
       "                    Figure\n",
       "                </div>\n",
       "                <img src='data:image/png;base64,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' width=640.0/>\n",
       "            </div>\n",
       "        "
      ],
      "text/plain": [
       "Canvas(toolbar=Toolbar(toolitems=[('Home', 'Reset original view', 'home', 'home'), ('Back', 'Back to previous …"
      ]
     },
     "metadata": {},
     "output_type": "display_data"
    }
   ],
   "source": [
    "plt.figure()\n",
    "vis_esfuerzos(nodes, elements, esfuerzos, desp=None)"
   ]
  },
  {
   "cell_type": "code",
   "execution_count": null,
   "id": "30796a20",
   "metadata": {},
   "outputs": [],
   "source": [
    "\n"
   ]
  }
 ],
 "metadata": {
  "kernelspec": {
   "display_name": "Python 3 (ipykernel)",
   "language": "python",
   "name": "python3"
  },
  "language_info": {
   "codemirror_mode": {
    "name": "ipython",
    "version": 3
   },
   "file_extension": ".py",
   "mimetype": "text/x-python",
   "name": "python",
   "nbconvert_exporter": "python",
   "pygments_lexer": "ipython3",
   "version": "3.11.5"
  }
 },
 "nbformat": 4,
 "nbformat_minor": 5
}
