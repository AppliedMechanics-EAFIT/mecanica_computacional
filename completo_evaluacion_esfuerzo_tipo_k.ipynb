{
 "cells": [
  {
   "cell_type": "markdown",
   "id": "33583753-0776-4c02-b331-a9be897bfd72",
   "metadata": {},
   "source": [
    "# Ejercicio de autoexplicación"
   ]
  },
  {
   "cell_type": "markdown",
   "id": "ef2f1c17",
   "metadata": {},
   "source": [
    "## Enunciado"
   ]
  },
  {
   "cell_type": "markdown",
   "id": "d82a697e",
   "metadata": {},
   "source": [
    "La cercha presentada a continuación representa un puente que utiliza una cercha\n",
    "tipo K. El puente tiene una longitud de 24 m y una altura de 6 m. La sección de\n",
    "cada barra es de  $ A = 0.002 \\text{ m}^2 $  y su módulo de Young es \n",
    "$ E = 200 \\text{ GPa} $. El puente está sometido a una carga total equivalente\n",
    "a 2000 kN, distribuida como se muestra en la figura: \n",
    "\n",
    "<div align=\"center\">\n",
    "    <img src=\"img/cercha_k.svg\">\n",
    "</div>\n",
    "\n",
    "Se busca determinar si alguna de las barras del puente supera el esfuerzo de\n",
    "fluencia a tracción de  $ 330 \\text{ MPa} $.\n",
    "\n",
    "\n",
    "Actualmente, el notebook no contiene celda de texto en donde se esté explicando\n",
    "los procedimientos realizados o comentarios. Se solicita que se agreguen\n",
    "explicanciones después de algunas de las celdas en donde se reflexione sobre\n",
    "los procedimientos realizados en las celdas de código para resolver el problema\n",
    "planteado anteriormente."
   ]
  },
  {
   "cell_type": "markdown",
   "id": "980de11b",
   "metadata": {},
   "source": [
    "## Código"
   ]
  },
  {
   "cell_type": "code",
   "execution_count": 13,
   "id": "5e06097a-db7f-45cc-9949-37af1034ea18",
   "metadata": {},
   "outputs": [],
   "source": [
    "%matplotlib widget"
   ]
  },
  {
   "cell_type": "code",
   "execution_count": 14,
   "id": "4e58ef1f",
   "metadata": {},
   "outputs": [],
   "source": [
    "import numpy as np\n",
    "import matplotlib.pyplot as plt\n",
    "from plane_trusses import analysis"
   ]
  },
  {
   "cell_type": "markdown",
   "id": "683b7ea4",
   "metadata": {},
   "source": [
    "**1.** A continuación se presenta una celda de código. **Revise este código\n",
    "y agregue una explicación en una celda posterior del notebook**."
   ]
  },
  {
   "cell_type": "code",
   "execution_count": 15,
   "id": "7e29f32e",
   "metadata": {},
   "outputs": [],
   "source": [
    "nodes = np.array([\n",
    "    [0,  0],\n",
    "    [4,  0],\n",
    "    [8,  0],\n",
    "    [12, 0],\n",
    "    [16, 0],\n",
    "    [20, 0],\n",
    "    [24, 0],\n",
    "    [4,  6],\n",
    "    [8,  6],\n",
    "    [12, 6],\n",
    "    [16, 6],\n",
    "    [20, 6],\n",
    "    [4,  3],\n",
    "    [8,  3],\n",
    "    [16, 3],\n",
    "    [20, 3]])\n",
    "\n",
    "cons = np.array([\n",
    "    [-1, -1],\n",
    "    [0, 0],\n",
    "    [0, 0],\n",
    "    [0, 0],\n",
    "    [0, 0],\n",
    "    [0, 0],\n",
    "    [0, -1],\n",
    "    [0, 0],\n",
    "    [0, 0],\n",
    "    [0, 0],\n",
    "    [0, 0],\n",
    "    [0, 0],\n",
    "    [0, 0],\n",
    "    [0, 0],\n",
    "    [0, 0],\n",
    "    [0, 0]], dtype=int)\n",
    "\n",
    "loads = np.array([\n",
    "    [0, 0],\n",
    "    [0, -400e3],\n",
    "    [0, -400e3],\n",
    "    [0, -400e3],\n",
    "    [0, -400e3],\n",
    "    [0, -400e3],\n",
    "    [0, 0],\n",
    "    [0, 0],\n",
    "    [0, 0],\n",
    "    [0, 0],\n",
    "    [0, 0],\n",
    "    [0, 0],\n",
    "    [0, 0],\n",
    "    [0, 0],\n",
    "    [0, 0],\n",
    "    [0, 0]])\n",
    "\n",
    "elements = np.array([\n",
    "    [0, 0,  1],\n",
    "    [0, 1,  2],\n",
    "    [0, 2,  3],\n",
    "    [0, 3,  4],\n",
    "    [0, 4,  5],\n",
    "    [0, 5,  6],\n",
    "    [0, 7,  8],\n",
    "    [0, 8,  9],\n",
    "    [0, 9,  10],\n",
    "    [0, 10, 11],\n",
    "    [0, 0,  7],\n",
    "    [0, 6,  11],\n",
    "    [0, 1,  12],\n",
    "    [0, 2,  13],\n",
    "    [0, 4,  14],\n",
    "    [0, 5,  15],\n",
    "    [0, 12, 7],\n",
    "    [0, 13, 8],\n",
    "    [0, 14, 10],\n",
    "    [0, 15, 11],\n",
    "    [0, 2,  12],\n",
    "    [0, 3,  13],\n",
    "    [0, 3,  14],\n",
    "    [0, 4,  15],\n",
    "    [0, 12, 8],\n",
    "    [0, 13, 9],\n",
    "    [0, 9,  14],\n",
    "    [0, 10, 15],\n",
    "    [0, 3,  9]], dtype=int)\n",
    "\n",
    "mats = np.array([[200e9, 0.002]])\n",
    "\n",
    "data = {\n",
    "  \"nodes\": nodes,\n",
    "  \"cons\": cons,\n",
    "  \"elements\": elements,\n",
    "  \"loads\": loads,\n",
    "  \"mats\": mats}"
   ]
  },
  {
   "cell_type": "markdown",
   "id": "4d17e719",
   "metadata": {},
   "source": [
    "<div class=\"alert-info\">\n",
    "\n",
    "Agregue un párrafo explicando lo siguiente:\n",
    "\n",
    "- ¿Cuál es el objetivo de la celda anterior?\n",
    "    \n",
    "- ¿Cuál es el significado de las variables\n",
    "(`nodes`, `cons`, `loads`, `elements`, `mats`)?\n",
    "\n",
    "<div/>"
   ]
  },
  {
   "cell_type": "markdown",
   "id": "1b21d779",
   "metadata": {},
   "source": []
  },
  {
   "cell_type": "code",
   "execution_count": 16,
   "id": "a8ba50d7",
   "metadata": {},
   "outputs": [],
   "source": [
    "disp = analysis(data)"
   ]
  },
  {
   "cell_type": "markdown",
   "id": "2c92789f",
   "metadata": {},
   "source": [
    "**2.** A continuación se presenta una celda de código. **Revise este código\n",
    "y agregue una explicación en una celda posterior del notebook**."
   ]
  },
  {
   "cell_type": "code",
   "execution_count": 17,
   "id": "f7adf3c2",
   "metadata": {},
   "outputs": [],
   "source": [
    "def calc_esfuerzos_int(coords, eles, mats, desp):\n",
    "    neles = eles.shape[0]\n",
    "    esfuerzos = np.zeros((neles))\n",
    "    for cont in range(neles):\n",
    "        ini = eles[cont, 1]\n",
    "        fin = eles[cont, 2]\n",
    "        longitud = np.linalg.norm(coords[fin, :] - coords[ini, :])\n",
    "        mat_id = eles[cont, 0]\n",
    "        young, _ = mats[mat_id]\n",
    "        long_nueva = np.linalg.norm(coords[fin, :] - coords[ini, :] +\n",
    "                                    desp[fin, :] - desp[ini, :])\n",
    "        elongacion = long_nueva - longitud\n",
    "        esfuerzos[cont] = young * elongacion / longitud\n",
    "    return esfuerzos"
   ]
  },
  {
   "cell_type": "markdown",
   "id": "3ee51860",
   "metadata": {},
   "source": [
    "<div class=\"alert-info\">\n",
    "\n",
    "Agregue un párrafo explicando cómo la función `calc_esfuerzos_int`\n",
    "calcula los esfuerzos internos en una cercha plana a partir\n",
    "de las coordenadas de los nodos, la conectividad de los elementos, las\n",
    "propiedades del material y los desplazamientos nodales.\n",
    "\n",
    "<div/>"
   ]
  },
  {
   "cell_type": "markdown",
   "id": "091cdb04",
   "metadata": {},
   "source": []
  },
  {
   "cell_type": "code",
   "execution_count": 18,
   "id": "7aace6ae",
   "metadata": {},
   "outputs": [
    {
     "data": {
      "text/plain": [
       "array([ 1.08777438,  1.02022436,  1.61649835,  1.61649835,  1.02022436,\n",
       "        1.08777438, -0.9922924 , -1.61582308, -1.61582308, -0.9922924 ,\n",
       "       -1.79695401, -1.79695401,  0.61752076,  0.15619556,  0.15619556,\n",
       "        0.61752076,  1.52397485,  0.45760858,  0.45760858,  1.52397485,\n",
       "        0.76705744,  0.25278755,  0.25278755,  0.76705744, -0.75044702,\n",
       "       -0.25251537, -0.25251537, -0.75044702,  0.3030303 ])"
      ]
     },
     "execution_count": 18,
     "metadata": {},
     "output_type": "execute_result"
    }
   ],
   "source": [
    "esfuerzos = calc_esfuerzos_int(nodes, elements, mats, disp)\n",
    "esfuerzos / 330e6"
   ]
  },
  {
   "cell_type": "markdown",
   "id": "fa7e586c",
   "metadata": {},
   "source": [
    "**3.** A continuación se presenta una celda de código. **Revise este código\n",
    "y agregue una explicación en una celda posterior del notebook**."
   ]
  },
  {
   "cell_type": "code",
   "execution_count": 19,
   "id": "6963e072",
   "metadata": {},
   "outputs": [],
   "source": [
    "def vis_esfuerzos(coords, eles, esfuerzos, desp=None):\n",
    "    esfuerzo_max = max(-esfuerzos.min(), esfuerzos.max())\n",
    "    esfuerzo_escalado = 0.5*(esfuerzos + esfuerzo_max)/esfuerzo_max\n",
    "    x, y = coords.T\n",
    "    if desp is None:\n",
    "        desp = np.zeros_like(coords)\n",
    "    for cont, barra in enumerate(eles[:, 1:]):\n",
    "        color = plt.cm.seismic(esfuerzo_escalado[cont])\n",
    "        plt.plot(x[barra] + desp[barra, 0], y[barra] + desp[barra, 1],\n",
    "                color=color, lw=3)\n",
    "        plt.plot(x + desp[:, 0], y + desp[:, 1], lw=0, marker=\"o\",\n",
    "             mec=\"#3c3c3c\", mfc=\"#ffffff\")\n",
    "    plt.axis(\"image\")"
   ]
  },
  {
   "cell_type": "markdown",
   "id": "4312ac83",
   "metadata": {},
   "source": [
    "<div class=\"alert-info\">\n",
    "\n",
    "Agregue un párrafo explicando cómo la función `vis_esfuerzos`\n",
    "representa los esfuerzos en la cercha mediante colores.\n",
    "\n",
    "<div/>"
   ]
  },
  {
   "cell_type": "markdown",
   "id": "7349358e",
   "metadata": {},
   "source": []
  },
  {
   "cell_type": "code",
   "execution_count": 20,
   "id": "a0cc9c7c",
   "metadata": {},
   "outputs": [
    {
     "data": {
      "application/vnd.jupyter.widget-view+json": {
       "model_id": "fe707a2fa2ce4206836b2002b6c8b87a",
       "version_major": 2,
       "version_minor": 0
      },
      "image/png": "[encoded data removed]",
      "text/html": [
       "\n",
       "            <div style=\"display: inline-block;\">\n",
       "                <div class=\"jupyter-widgets widget-label\" style=\"text-align: center;\">\n",
       "                    Figure\n",
       "                </div>\n",
       "                <img src='data:image/png;base64,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' width=640.0/>\n",
       "            </div>\n",
       "        "
      ],
      "text/plain": [
       "Canvas(toolbar=Toolbar(toolitems=[('Home', 'Reset original view', 'home', 'home'), ('Back', 'Back to previous …"
      ]
     },
     "metadata": {},
     "output_type": "display_data"
    }
   ],
   "source": [
    "plt.figure()\n",
    "vis_esfuerzos(nodes, elements, esfuerzos, desp=None)"
   ]
  }
 ],
 "metadata": {
  "kernelspec": {
   "display_name": "Python 3 (ipykernel)",
   "language": "python",
   "name": "python3"
  },
  "language_info": {
   "codemirror_mode": {
    "name": "ipython",
    "version": 3
   },
   "file_extension": ".py",
   "mimetype": "text/x-python",
   "name": "python",
   "nbconvert_exporter": "python",
   "pygments_lexer": "ipython3",
   "version": "3.11.5"
  }
 },
 "nbformat": 4,
 "nbformat_minor": 5
}
